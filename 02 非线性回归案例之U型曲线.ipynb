{
 "cells": [
  {
   "cell_type": "code",
   "execution_count": 1,
   "metadata": {},
   "outputs": [],
   "source": [
    "import tensorflow as tf\n",
    "import numpy as np\n",
    "import matplotlib.pyplot as plt\n"
   ]
  },
  {
   "cell_type": "code",
   "execution_count": 7,
   "metadata": {},
   "outputs": [
    {
     "data": {
      "image/png": "[encoded data removed]",
      "text/plain": [
       "<Figure size 432x288 with 1 Axes>"
      ]
     },
     "metadata": {
      "needs_background": "light"
     },
     "output_type": "display_data"
    }
   ],
   "source": [
    "#总结：使得loss值不断减小，可以改变的四个变量是\n",
    "#      Weights_L1，Weights_L2，biases_L1 ，biases_L2 \n",
    "\n",
    "#使用 numpy 來产生200個樣本點\n",
    "x_data = np.linspace(-0.5, 0.5, 200)[:, np.newaxis]    #维度，x_data是均匀分布的，200行\n",
    "noise = np.random.normal(0, 0.02, x_data.shape)        #干扰项\n",
    "y_data = np.square(x_data) + noise\n",
    "\n",
    "#定义兩個placeholder，目的在於 train時候透過 feed 傳入 x_data 与 y_data\n",
    "x = tf.placeholder(tf.float32, [None, 1])   #維度為 ?*1，行不确定，但列只有一列\n",
    "y = tf.placeholder(tf.float32, [None, 1])   #接收到的是200行\n",
    "\n",
    "\n",
    "#定義神經網路的結構，解决回归但问题\n",
    "#输入x，得到y，使得y与真实值接近\n",
    "#输入层和输出层是一个神经元，中间层十个神经元\n",
    "\n",
    "#定義中間層，總共10個神經元\n",
    "Weights_L1 = tf.Variable(tf.random_normal([1, 10])) #定義權值變數，並且初始化為 normal 1*10，形状是一行十列\n",
    "biases_L1 = tf.Variable(tf.zeros([1,10])) #定義bias變數，偏置层，並且初始化為0矩陣\n",
    "\n",
    "# matmul矩阵乘法\n",
    "Wx_plus_b_L1 = tf.matmul(x, Weights_L1) + biases_L1  # Weights_L1*x + Biases_L1\n",
    "L1 = tf.nn.tanh(Wx_plus_b_L1)      #中間层的輸出 (激活函數為 双曲正切函數)\n",
    "\n",
    "\n",
    "#定義輸出層，总共1個神經元\n",
    "Weights_L2 = tf.Variable(tf.random_normal([10,1]))\n",
    "biases_L2 = tf.Variable(tf.zeros([1,1]))\n",
    "# 输出层信号的总和\n",
    "Wx_plus_b_L2 = tf.matmul(L1, Weights_L2) + biases_L2  # Weights_L2*L1 + Biases_L2 (輸出層的輸入，是中間層的輸出L1)\n",
    "prediction = tf.nn.tanh(Wx_plus_b_L2)\n",
    "\n",
    "\n",
    "\n",
    "#二次代价函數 : loss = mean((y - prediction)^2)\n",
    "#mean求平均值\n",
    "loss = tf.reduce_mean(tf.square(y - prediction))\n",
    "\n",
    "#使用梯度下降法优化（训练）\n",
    "#Gradient desent method  (learning rate = 0.1)\n",
    "train_step = tf.train.GradientDescentOptimizer(0.1).minimize(loss)   #最小化 代價函數 (operator)\n",
    "\n",
    "\n",
    "#初始化變數 operator\n",
    "init = tf.global_variables_initializer()\n",
    "\n",
    "#開始training\n",
    "with tf.Session() as sess:\n",
    "    sess.run(init) #變數初始化\n",
    "    \n",
    "    feed_dict = {x : x_data, y : y_data} #訓練時 要傳入的 feed 的字典\n",
    "    \n",
    "    for _ in range(2000):\n",
    "        sess.run(train_step, feed_dict)   \n",
    "      # sess.run(train_step, feed_dict = {x: x_data, y :y_data})\n",
    "        \n",
    "        \n",
    "    #获得預測值\n",
    "    feed_pre_dict = {x : x_data} #觀察預測值時 要傳入的 feed 的字典,只需传入x\n",
    "    prediction_value = sess.run(prediction, feed_pre_dict) #預測值\n",
    "    \n",
    "    # 画图\n",
    "    plt.figure()\n",
    "    plt.scatter(x_data, y_data)     #散点图形式\n",
    "    \n",
    "    # 'r-'中'r'代表画的线是红色，'-'代表是实线，lw=5表示线宽是5\n",
    "    plt.plot(x_data, prediction_value, 'r-', lw=5)   #预测的结果\n",
    "    \n",
    "    plt.show()\n"
   ]
  },
  {
   "cell_type": "code",
   "execution_count": null,
   "metadata": {},
   "outputs": [],
   "source": []
  }
 ],
 "metadata": {
  "kernelspec": {
   "display_name": "Python 3",
   "language": "python",
   "name": "python3"
  },
  "language_info": {
   "codemirror_mode": {
    "name": "ipython",
    "version": 3
   },
   "file_extension": ".py",
   "mimetype": "text/x-python",
   "name": "python",
   "nbconvert_exporter": "python",
   "pygments_lexer": "ipython3",
   "version": "3.6.6"
  }
 },
 "nbformat": 4,
 "nbformat_minor": 2
}
