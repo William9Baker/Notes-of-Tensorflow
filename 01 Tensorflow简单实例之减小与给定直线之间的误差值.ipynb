{
 "cells": [
  {
   "cell_type": "code",
   "execution_count": 2,
   "metadata": {},
   "outputs": [],
   "source": [
    "import tensorflow as tf\n",
    "import numpy as np"
   ]
  },
  {
   "cell_type": "code",
   "execution_count": 5,
   "metadata": {},
   "outputs": [
    {
     "name": "stdout",
     "output_type": "stream",
     "text": [
      "0 [0.06083415, 0.102484465]\n",
      "20 [0.10865904, 0.19481996]\n",
      "40 [0.105310954, 0.19682287]\n",
      "60 [0.103257425, 0.19805133]\n",
      "80 [0.10199791, 0.19880481]\n",
      "100 [0.101225406, 0.19926693]\n",
      "120 [0.1007516, 0.19955038]\n",
      "140 [0.10046097, 0.19972424]\n",
      "160 [0.10028273, 0.19983087]\n",
      "180 [0.1001734, 0.19989626]\n",
      "200 [0.100106366, 0.19993638]\n"
     ]
    }
   ],
   "source": [
    "import matplotlib.pyplot as plt\n",
    "\n",
    "#產生一個含有隨機的線性模型\n",
    "x_data = np.random.rand(100)         #使用numpy均勻隨機產生100個點\n",
    "#noise = 0.1*np.random.randn(100)      #隨機項\n",
    "y_data = x_data * 0.1 +0.2             #一条直线，斜率0.1，截距0.2\n",
    "#y_data = x_data * 1 + 3 + noise       # y_data = 1 * x_data + 3  + noise\n",
    "\n",
    "#宣告 tensorflow 中的變數，构造一个线性模型\n",
    "# y = m*x + b\n",
    "b = tf.Variable(0.0)\n",
    "k = tf.Variable(0.0)\n",
    "y = k * x_data + b   \n",
    "\n",
    "# y是预测值，y_data是真实值，y_data - y是误差\n",
    "\n",
    "#代價函數 : loss = mean((y-y_data)^2)\n",
    "#其中 tf.reduce_mean 計算 tensor中每一個 dimension 的平均值\n",
    "# tf.square 計算 tensor 中每一個元的平方\n",
    "#二次代價函數\n",
    "loss = tf.reduce_mean(tf.square(y_data - y))   \n",
    "\n",
    "\n",
    "#定义一个梯度下降法来进行训练的优化器（优化的方法：梯度下降法）\n",
    "#Gradient desent method  (learning rate = 0.2)\n",
    "optimizer = tf.train.GradientDescentOptimizer(0.2)\n",
    "# train -> loss -> y -> k & b \n",
    "#影响loss的主要因素是k和b两个变量，使用梯度下降法这个优化器来改变b和k的值，\n",
    "#使得loss值越来越小，从而k和b越接近于0.1和0.2\n",
    "\n",
    "\n",
    "#最小化 代价函數 (operator),训练的目的是最小化loss\n",
    "#loss越小就说明构造出的线性模型计算结果越接近于真实值\n",
    "train = optimizer.minimize(loss)\n",
    "\n",
    "\n",
    "#初始化变量 operator\n",
    "init = tf.global_variables_initializer()\n",
    "\n",
    "#定义会话\n",
    "with tf.Session() as sess:\n",
    "    sess.run(init)  #变量初始化\n",
    "    for step in range(201):\n",
    "        sess.run(train)\n",
    "        if step % 20 == 0:    #每20次打印一下k和b的值\n",
    "            print(step,sess.run([k,b]))\n",
    "        "
   ]
  },
  {
   "cell_type": "code",
   "execution_count": null,
   "metadata": {},
   "outputs": [],
   "source": []
  }
 ],
 "metadata": {
  "kernelspec": {
   "display_name": "Python 3",
   "language": "python",
   "name": "python3"
  },
  "language_info": {
   "codemirror_mode": {
    "name": "ipython",
    "version": 3
   },
   "file_extension": ".py",
   "mimetype": "text/x-python",
   "name": "python",
   "nbconvert_exporter": "python",
   "pygments_lexer": "ipython3",
   "version": "3.6.6"
  }
 },
 "nbformat": 4,
 "nbformat_minor": 2
}
